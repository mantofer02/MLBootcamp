{
 "cells": [
  {
   "cell_type": "markdown",
   "metadata": {},
   "source": [
    "# Mean, Median, Mode, and introducing NumPy"
   ]
  },
  {
   "cell_type": "markdown",
   "metadata": {},
   "source": [
    "## Mean vs. Median"
   ]
  },
  {
   "cell_type": "markdown",
   "metadata": {},
   "source": [
    "Let's create some fake income data, centered around 27,000 with a normal distribution and standard deviation of 15,000, with 10,000 data points. (We'll discuss those terms more later, if you're not familiar with them.)\n",
    "\n",
    "Then, compute the mean (average) - it should be close to 27,000:"
   ]
  },
  {
   "cell_type": "code",
   "execution_count": 8,
   "metadata": {},
   "outputs": [
    {
     "data": {
      "text/plain": [
       "np.float64(27157.542009141678)"
      ]
     },
     "execution_count": 8,
     "metadata": {},
     "output_type": "execute_result"
    }
   ],
   "source": [
    "import numpy as np\n",
    "\n",
    "incomes = np.random.normal(27000, 15000, 10000)\n",
    "np.mean(incomes)"
   ]
  },
  {
   "cell_type": "markdown",
   "metadata": {},
   "source": [
    "We can segment the income data into 50 buckets, and plot it as a histogram:"
   ]
  },
  {
   "cell_type": "code",
   "execution_count": 9,
   "metadata": {},
   "outputs": [
    {
     "data": {
      "image/png": "[encoded data removed]",
      "text/plain": [
       "<Figure size 640x480 with 1 Axes>"
      ]
     },
     "metadata": {},
     "output_type": "display_data"
    }
   ],
   "source": [
    "%matplotlib inline\n",
    "import matplotlib.pyplot as plt\n",
    "plt.hist(incomes, 50)\n",
    "plt.show()"
   ]
  },
  {
   "cell_type": "markdown",
   "metadata": {},
   "source": [
    "Now compute the median - since we have a nice, even distribution it too should be close to 27,000:"
   ]
  },
  {
   "cell_type": "code",
   "execution_count": 10,
   "metadata": {},
   "outputs": [
    {
     "data": {
      "text/plain": [
       "np.float64(27018.086601394178)"
      ]
     },
     "execution_count": 10,
     "metadata": {},
     "output_type": "execute_result"
    }
   ],
   "source": [
    "np.median(incomes)"
   ]
  },
  {
   "cell_type": "code",
   "execution_count": 11,
   "metadata": {},
   "outputs": [
    {
     "data": {
      "text/plain": [
       "np.float64(27157.542009141678)"
      ]
     },
     "execution_count": 11,
     "metadata": {},
     "output_type": "execute_result"
    }
   ],
   "source": [
    "np.mean(incomes)"
   ]
  },
  {
   "cell_type": "markdown",
   "metadata": {},
   "source": [
    "Now we'll add Jeff Bezos into the mix. Darn income inequality!"
   ]
  },
  {
   "cell_type": "code",
   "execution_count": 12,
   "metadata": {},
   "outputs": [],
   "source": [
    "incomes = np.append(incomes, [1000000000])"
   ]
  },
  {
   "cell_type": "markdown",
   "metadata": {},
   "source": [
    "The median won't change much, but the mean does:"
   ]
  },
  {
   "cell_type": "code",
   "execution_count": 13,
   "metadata": {},
   "outputs": [
    {
     "data": {
      "text/plain": [
       "np.float64(27020.01597376498)"
      ]
     },
     "execution_count": 13,
     "metadata": {},
     "output_type": "execute_result"
    }
   ],
   "source": [
    "np.median(incomes)"
   ]
  },
  {
   "cell_type": "code",
   "execution_count": 14,
   "metadata": {},
   "outputs": [
    {
     "data": {
      "text/plain": [
       "np.float64(127144.82752638904)"
      ]
     },
     "execution_count": 14,
     "metadata": {},
     "output_type": "execute_result"
    }
   ],
   "source": [
    "np.mean(incomes)"
   ]
  },
  {
   "cell_type": "markdown",
   "metadata": {},
   "source": [
    "## Mode"
   ]
  },
  {
   "cell_type": "markdown",
   "metadata": {},
   "source": [
    "Next, let's generate some fake age data for 500 people:"
   ]
  },
  {
   "cell_type": "code",
   "execution_count": 15,
   "metadata": {},
   "outputs": [
    {
     "data": {
      "text/plain": [
       "array([88, 86, 55, 55, 28, 42, 64, 72, 89, 69, 22, 86, 80, 75, 29, 28, 50,\n",
       "       85, 63, 21, 49, 79, 84, 55, 50, 19, 34, 21, 81, 23, 29, 48, 80, 47,\n",
       "       74, 58, 57, 83, 81, 38, 64, 40, 66, 26, 22, 22, 88, 29, 32, 65, 24,\n",
       "       56, 33, 73, 46, 37, 67, 82, 22, 62, 84, 69, 67, 30, 47, 42, 64, 36,\n",
       "       28, 45, 77, 89, 58, 84, 86, 53, 31, 55, 87, 68, 86, 46, 70, 73, 70,\n",
       "       76, 57, 86, 23, 26, 20, 87, 19, 51, 21, 54, 47, 75, 23, 26, 64, 53,\n",
       "       48, 78, 83, 69, 67, 69, 33, 40, 21, 70, 34, 30, 57, 42, 62, 82, 88,\n",
       "       26, 21, 72, 30, 59, 88, 61, 81, 18, 65, 77, 74, 83, 79, 67, 78, 89,\n",
       "       33, 58, 69, 32, 54, 21, 69, 88, 24, 19, 87, 21, 46, 49, 89, 84, 53,\n",
       "       79, 68, 52, 43, 62, 47, 52, 61, 39, 80, 89, 82, 28, 67, 72, 21, 42,\n",
       "       61, 56, 48, 76, 82, 64, 53, 72, 36, 29, 83, 47, 64, 41, 85, 70, 85,\n",
       "       55, 70, 62, 47, 19, 31, 25, 34, 33, 41, 37, 77, 87, 47, 78, 29, 60,\n",
       "       74, 80, 88, 60, 47, 47, 47, 26, 33, 76, 30, 87, 82, 73, 61, 26, 59,\n",
       "       82, 82, 71, 41, 25, 27, 84, 68, 21, 63, 26, 66, 43, 55, 55, 66, 83,\n",
       "       28, 56, 33, 82, 74, 61, 31, 44, 60, 46, 66, 72, 84, 39, 44, 70, 63,\n",
       "       89, 88, 85, 69, 56, 60, 62, 44, 22, 89, 55, 53, 60, 66, 35, 89, 28,\n",
       "       59, 39, 80, 77, 42, 85, 82, 72, 30, 80, 29, 53, 40, 79, 26, 35, 35,\n",
       "       81, 33, 51, 56, 24, 53, 20, 36, 79, 68, 75, 38, 51, 45, 55, 88, 49,\n",
       "       42, 76, 65, 87, 42, 24, 85, 59, 80, 23, 23, 78, 35, 69, 31, 36, 53,\n",
       "       33, 68, 40, 41, 46, 69, 41, 25, 45, 58, 68, 36, 80, 85, 36, 86, 46,\n",
       "       83, 73, 20, 88, 85, 58, 35, 40, 42, 70, 36, 19, 87, 56, 56, 19, 52,\n",
       "       45, 37, 51, 57, 34, 41, 52, 67, 69, 81, 88, 76, 64, 44, 78, 63, 61,\n",
       "       64, 45, 64, 37, 51, 77, 89, 46, 73, 24, 55, 19, 79, 23, 23, 49, 36,\n",
       "       24, 57, 37, 47, 52, 23, 29, 69, 80, 52, 41, 79, 88, 40, 61, 30, 41,\n",
       "       33, 85, 51, 18, 81, 60, 79, 32, 69, 46, 30, 36, 54, 42, 60, 76, 26,\n",
       "       46, 40, 73, 59, 22, 22, 57, 54, 85, 41, 40, 80, 49, 27, 45, 66, 87,\n",
       "       44, 68, 77, 85, 33, 21, 56, 75, 53, 30, 55, 22, 84, 67, 29, 76, 24,\n",
       "       71, 40, 73, 62, 26, 83, 44, 18, 61, 20, 58, 27, 75, 67, 33, 72, 27,\n",
       "       60, 68, 45, 20, 25, 19, 44, 57, 74, 42, 27, 84, 28, 38, 58, 22, 28,\n",
       "       61, 20, 66, 89, 51, 38, 38], dtype=int32)"
      ]
     },
     "execution_count": 15,
     "metadata": {},
     "output_type": "execute_result"
    }
   ],
   "source": [
    "ages = np.random.randint(18, high=90, size=500)\n",
    "ages"
   ]
  },
  {
   "cell_type": "code",
   "execution_count": 17,
   "metadata": {},
   "outputs": [
    {
     "data": {
      "text/plain": [
       "ModeResult(mode=np.int32(69), count=np.int64(12))"
      ]
     },
     "execution_count": 17,
     "metadata": {},
     "output_type": "execute_result"
    }
   ],
   "source": [
    "from scipy import stats\n",
    "stats.mode(ages)"
   ]
  }
 ],
 "metadata": {
  "kernelspec": {
   "display_name": "marco-ml-env",
   "language": "python",
   "name": "python3"
  },
  "language_info": {
   "codemirror_mode": {
    "name": "ipython",
    "version": 3
   },
   "file_extension": ".py",
   "mimetype": "text/x-python",
   "name": "python",
   "nbconvert_exporter": "python",
   "pygments_lexer": "ipython3",
   "version": "3.10.18"
  }
 },
 "nbformat": 4,
 "nbformat_minor": 1
}
